{
 "cells": [
  {
   "cell_type": "markdown",
   "metadata": {},
   "source": [
    "### 1) Refer the monoalphabetic cipher reference material given and implement the same"
   ]
  },
  {
   "cell_type": "code",
   "execution_count": 6,
   "metadata": {},
   "outputs": [
    {
     "name": "stdout",
     "output_type": "stream",
     "text": [
      "Encrypted Text: BUXULYNKCUMWSUYOEUFKXO\n",
      "Decrypted Text: FARABOVECAYUGAOSWATERS\n"
     ]
    }
   ],
   "source": [
    "def egcd(a, b):\n",
    "    x,y, u,v = 0,1, 1,0\n",
    "    while a != 0:\n",
    "        q, r = b//a, b%a\n",
    "        m, n = x-u*q, y-v*q\n",
    "        b,a, x,y, u,v = a,r, u,v, m,n\n",
    "    gcd = b\n",
    "    return gcd, x, y\n",
    "\n",
    "def modinv(a, m):\n",
    "    gcd, x, y = egcd(a, m)\n",
    "    if gcd != 1:\n",
    "        return None\n",
    "    else:\n",
    "        return x % m\n",
    "\n",
    "def affine_encrypt(text, key):\n",
    "    return ''.join([ chr((( key[0]*(ord(t) - ord('A')) + key[1] ) % 26) + ord('A')) for t in text.upper().replace(' ', '') ])\n",
    "\n",
    "def affine_decrypt(cipher, key):\n",
    "    return ''.join([ chr((( modinv(key[0], 26)*(ord(c) - ord('A') - key[1])) % 26) + ord('A')) for c in cipher ])\n",
    "\n",
    "def main():\n",
    "    text = 'FAR ABOVE CAYUGA’S WATERS'\n",
    "    key = [17, 20]\n",
    "\n",
    "    affine_encrypted_text = affine_encrypt(text, key)\n",
    "\n",
    "    print('Encrypted Text: {}'.format( affine_encrypted_text ))\n",
    "\n",
    "    print('Decrypted Text: {}'.format( affine_decrypt(affine_encrypted_text, key) ))\n",
    "\n",
    "if __name__ == '__main__':\n",
    "    main()"
   ]
  },
  {
   "cell_type": "markdown",
   "metadata": {},
   "source": [
    "### 2)  We describe a special case of a Permutation  Cipher. Let m, n be positive integers"
   ]
  },
  {
   "cell_type": "code",
   "execution_count": 3,
   "metadata": {},
   "outputs": [
    {
     "name": "stdout",
     "output_type": "stream",
     "text": [
      "42\n",
      "MARRYQECOARYDOEURGENGYMAUITNTRHOWSYOARDROW"
     ]
    }
   ],
   "source": [
    "import numpy as np\n",
    "\n",
    "m, n = (21, 2)\n",
    "plaintext = \"MYAMRARUYIQTENCTORAHROYWDSOYEOUARRGDERNOGW\"\n",
    "print(len(plaintext))\n",
    "\n",
    "matrix = np.empty((m, n), dtype=str)\n",
    "\n",
    "k = 0 \n",
    "for i in range(0, m):\n",
    "    for j in range(0, n):\n",
    "        matrix[i][j] = plaintext[k]\n",
    "        k += 1\n",
    "\n",
    "matrix = np.transpose(matrix)\n",
    "\n",
    "m, n = n, m\n",
    "for i in range(0, m):\n",
    "    for j in range(0, n):\n",
    "        print(matrix[i][j], end='')\n"
   ]
  },
  {
   "cell_type": "markdown",
   "metadata": {},
   "source": [
    "### 3) Implement the Playfair Cipher for enciphering and deciphering messages. Input data will come from files.\n"
   ]
  },
  {
   "cell_type": "code",
   "execution_count": 52,
   "metadata": {},
   "outputs": [
    {
     "name": "stdout",
     "output_type": "stream",
     "text": [
      "['An']\n",
      "['an', 'on', 'ym', 'ou', 'sz']\n",
      "['re', 'ad', 'er']\n",
      "['se', 'nd', 'sz']\n",
      "['wo', 'rd']\n",
      "['of']\n",
      "['az']\n",
      "['pr', 'ox', 'of', '-o', 'f-', 'co', 'nc', 'ep', 'tz']\n",
      "['Go', 'xo', 'gl', 'ez']\n",
      "['Ch', 'ro', 'me']\n",
      "['br', 'ow', 'se', 'rz']\n",
      "['ex', 'te', 'ns', 'io', 'nz']\n",
      "['th', 'at']\n",
      "['st', 'ea', 'ls']\n",
      "['us', 'er', \"s'\"]\n",
      "['lo', 'gi', 'nz']\n",
      "['de', 'ta', 'il', 's.']\n",
      "['Th', 'ez']\n",
      "['de', 've', 'lo', 'pe', 'r,']\n",
      "['An', 'dr', 'ea', 'sz']\n",
      "['Gr', 'ec', 'h,']\n",
      "['sa', 'ys']\n",
      "['th', 'at']\n",
      "['he']\n",
      "['is']\n",
      "['tr', 'yi', 'ng']\n",
      "['to']\n",
      "['ra', 'is', 'ez']\n",
      "['aw', 'ar', 'en', 'es', 'xs']\n",
      "['ab', 'ou', 'tz']\n",
      "['se', 'cu', 'ri', 'ty']\n",
      "['am', 'on', 'gz']\n",
      "['en', 'dz']\n",
      "['us', 'er', 's,']\n",
      "['an', 'dz']\n",
      "['th', 'er', 'ef', 'or', 'ez']\n",
      "['ch', 'os', 'ez']\n",
      "['Ch', 'ro', 'me']\n",
      "['as']\n",
      "['az']\n",
      "['te', 'st', '-b', 'ed']\n",
      "['be', 'ca', 'us', 'ez']\n",
      "['of']\n",
      "['it', 'sz']\n",
      "['re', 'pu', 'ta', 'ti', 'on']\n",
      "['as']\n",
      "['th', 'ez']\n",
      "['sa', 'fe', 'st']\n",
      "['br', 'ow', 'se', 'r.']\n"
     ]
    }
   ],
   "source": [
    "text = \"An anonymous reader sends word of a proof-of-concept Google Chrome browser extension that steals users' login details. The developer, Andreas Grech, says that he is trying to raise awareness about security among end users, and therefore chose Chrome as a test-bed because of its reputation as the safest browser.\"\n",
    "\n",
    "for word in text.split():\n",
    "    for i in range(0, len(word)-1):\n",
    "        if word[i] == word[i+1]:\n",
    "            word = word[0:i+1] + 'x' + word[i+1:len(word)]\n",
    "    if len(word) % 2 != 0:\n",
    "        word += 'z'\n",
    "    split = [word[i:i+2] for i in range(0, len(word), 2)]\n",
    "    print(split)\n"
   ]
  },
  {
   "cell_type": "markdown",
   "metadata": {},
   "source": [
    "### 4) \n",
    "###### Encipher  the  text “ ITS COOL” with   affine function   E(x) = (5x + 8) MOD 26\n",
    "###### Decipher HPCCXAQ if the encipherment function is E(x) = (5x + 8) MOD 26."
   ]
  },
  {
   "cell_type": "code",
   "execution_count": 2,
   "metadata": {},
   "outputs": [
    {
     "name": "stdout",
     "output_type": "stream",
     "text": [
      "WZUSAAL\n",
      "FREEDOM\n"
     ]
    }
   ],
   "source": [
    "def Cipher(message):\n",
    "    key_list = list(numerical_equivalents.keys())\n",
    "    val_list = list(numerical_equivalents.values())\n",
    "    ciper_text = ''\n",
    "    for char in message:\n",
    "        position = val_list.index((5*numerical_equivalents[char] + 8) % 26)\n",
    "        ciper_text += key_list[position]\n",
    "    return ciper_text\n",
    "\n",
    "def Decipher(message):\n",
    "    key_list = list(numerical_equivalents.keys())\n",
    "    val_list = list(numerical_equivalents.values())\n",
    "    ciper_text = ''\n",
    "    for char in message:\n",
    "        position = val_list.index(21*(numerical_equivalents[char] - 8) % 26)\n",
    "        ciper_text += key_list[position]\n",
    "    return ciper_text\n",
    "    \n",
    "if __name__=='__main__':    \n",
    "    numerical_equivalents = {'A':0,'B':1,'C':2,'D':3,'E':4,'F':5,'G':6,'H':7,'I':8,'J':9,'K':10,'L':11,'M':12,'N':13,\n",
    "                             'O':14,'P':15,'Q':16,'R':17,'S':18,'T':19,'U':20,'V':21,'W':22,'X':23,'Y':24,'Z':25}\n",
    "    message = 'ITSCOOL'\n",
    "    ciper_text = Cipher(message)\n",
    "    print(ciper_text)\n",
    "    \n",
    "    message = 'HPCCXAQ'\n",
    "    deciper_text = Decipher(message)\n",
    "    print(deciper_text)"
   ]
  },
  {
   "cell_type": "markdown",
   "metadata": {},
   "source": [
    "### 5) Assume you have the following message secretly intercepted that reads as follows:     :mmZ\\dxZmx]Zpgy"
   ]
  },
  {
   "cell_type": "code",
   "execution_count": 8,
   "metadata": {},
   "outputs": [
    {
     "name": "stdout",
     "output_type": "stream",
     "text": [
      "0 ZmmZ\\dxZmx]Zpgy\n",
      "1 YllY[cwYlw\\Yofx\n",
      "2 XkkXZbvXkv[Xnew\n",
      "3 WjjWYauWjuZWmdv\n",
      "4 ViiVX`tVitYVlcu\n",
      "5 UhhUW_sUhsXUkbt\n",
      "6 TggTV^rTgrWTjas\n",
      "7 SffSU]qSfqVSi`r\n",
      "8 ReeRT\\pRepURh_q\n",
      "9 QddQS[oQdoTQg^p\n",
      "10 PccPRZnPcnSPf]o\n",
      "11 ObbOQYmObmROe\\n\n",
      "12 NaaNPXlNalQNd[m\n",
      "13 M``MOWkM`kPMcZl\n",
      "14 L__LNVjL_jOLbYk\n",
      "15 K^^KMUiK^iNKaXj\n",
      "16 J]]JLThJ]hMJ`Wi\n",
      "17 I\\\\IKSgI\\gLI_Vh\n",
      "18 H[[HJRfH[fKH^Ug\n",
      "19 GZZGIQeGZeJG]Tf\n",
      "20 FYYFHPdFYdIF\\Se\n",
      "21 EXXEGOcEXcHE[Rd\n",
      "22 DWWDFNbDWbGDZQc\n",
      "23 CVVCEMaCVaFCYPb\n",
      "24 BUUBDL`BU`EBXOa\n",
      "25 ATTACK_AT_DAWN`\n",
      "26 @SS@BJ^@S^C@VM_\n",
      "27 ?RR?AI]?R]B?UL^\n",
      "28 >QQ>@H\\>Q\\A>TK]\n",
      "29 =PP=?G[=P[@=SJ\\\n",
      "30 <OO<>FZ<OZ?<RI[\n",
      "31 ;NN;=EY;NY>;QHZ\n",
      "32 :MM:<DX:MX=:PGY\n",
      "33 9LL9;CW9LW<9OFX\n",
      "34 8KK8:BV8KV;8NEW\n",
      "35 7JJ79AU7JU:7MDV\n",
      "36 6II68@T6IT96LCU\n",
      "37 5HH57?S5HS85KBT\n",
      "38 4GG46>R4GR74JAS\n",
      "39 3FF35=Q3FQ63I@R\n",
      "40 2EE24<P2EP52H?Q\n",
      "41 1DD13;O1DO41G>P\n",
      "42 0CC02:N0CN30F=O\n",
      "43 /BB/19M/BM2/E<N\n",
      "44 .AA.08L.AL1.D;M\n",
      "45 -@@-/7K-@K0-C:L\n",
      "46 ,??,.6J,?J/,B9K\n",
      "47 +>>+-5I+>I.+A8J\n",
      "48 *==*,4H*=H-*@7I\n",
      "49 )<<)+3G)<G,)?6H\n",
      "50 (;;(*2F(;F+(>5G\n",
      "51 '::')1E':E*'=4F\n",
      "52 &99&(0D&9D)&<3E\n",
      "53 %88%'/C%8C(%;2D\n",
      "54 $77$&.B$7B'$:1C\n",
      "55 #66#%-A#6A&#90B\n",
      "56 \"55\"$,@\"5@%\"8/A\n",
      "57 !44!#+?!4?$!7.@\n",
      "58  33 \"*> 3># 6-?\n",
      "59 ~22~!)=~2=\"~5,>\n",
      "60 }11} (<}1<!}4+=\n",
      "61 |00|~';|0; |3*<\n",
      "62 {//{}&:{/:~{2);\n",
      "63 z..z|%9z.9}z1(:\n",
      "64 y--y{$8y-8|y0'9\n",
      "65 x,,xz#7x,7{x/&8\n",
      "66 w++wy\"6w+6zw.%7\n",
      "67 v**vx!5v*5yv-$6\n",
      "68 u))uw 4u)4xu,#5\n",
      "69 t((tv~3t(3wt+\"4\n",
      "70 s''su}2s'2vs*!3\n",
      "71 r&&rt|1r&1ur) 2\n",
      "72 q%%qs{0q%0tq(~1\n",
      "73 p$$prz/p$/sp'}0\n",
      "74 o##oqy.o#.ro&|/\n",
      "75 n\"\"npx-n\"-qn%{.\n",
      "76 m!!mow,m!,pm$z-\n",
      "77 l  lnv+l +ol#y,\n",
      "78 k~~kmu*k~*nk\"x+\n",
      "79 j}}jlt)j})mj!w*\n",
      "80 i||iks(i|(li v)\n",
      "81 h{{hjr'h{'kh~u(\n",
      "82 gzzgiq&gz&jg}t'\n",
      "83 fyyfhp%fy%if|s&\n",
      "84 exxego$ex$he{r%\n",
      "85 dwwdfn#dw#gdzq$\n",
      "86 cvvcem\"cv\"fcyp#\n",
      "87 buubdl!bu!ebxo\"\n",
      "88 attack at dawn!\n",
      "89 `ss`bj~`s~c`vm \n",
      "90 _rr_ai}_r}b_ul~\n",
      "91 ^qq^`h|^q|a^tk}\n",
      "92 ]pp]_g{]p{`]sj|\n",
      "93 \\oo\\^fz\\oz_\\ri{\n",
      "94 [nn[]ey[ny^[qhz\n",
      "95 ZmmZ\\dxZmx]Zpgy\n",
      "96 YllY[cwYlw\\Yofx\n",
      "97 XkkXZbvXkv[Xnew\n",
      "98 WjjWYauWjuZWmdv\n",
      "99 ViiVX`tVitYVlcu\n"
     ]
    }
   ],
   "source": [
    "def Encrypt(message, key): \n",
    "    Encrypted_message = ''\n",
    "    for original_char in message:\n",
    "        if ord(original_char) + key  > 126: \n",
    "            Encrypted_char = 32 + ((ord(original_char) + key  ) - 127)\n",
    "        else:\n",
    "            Encrypted_char = ord(original_char) + key  \n",
    "        Encrypted_message += chr(Encrypted_char)\n",
    "    return Encrypted_message\n",
    "\n",
    "def Decrypt(message, key): \n",
    "    Decrypted_message = ''\n",
    "    for original_char in message:\n",
    "        if ord(original_char) - key  < 32: \n",
    "            Decrypted_char = 126 + ((ord(original_char) - key) - 31)\n",
    "        else:\n",
    "            Decrypted_char = ord(original_char) - key  \n",
    "        Decrypted_message += chr(Decrypted_char)\n",
    "    return Decrypted_message\n",
    "\n",
    "if __name__=='__main__':\n",
    "    message = 'ZmmZ\\dxZmx]Zpgy'\n",
    "    for i in range(0, 100):\n",
    "        print(i, Decrypt(message, i))"
   ]
  },
  {
   "cell_type": "code",
   "execution_count": null,
   "metadata": {},
   "outputs": [],
   "source": []
  }
 ],
 "metadata": {
  "kernelspec": {
   "display_name": "Python 3 (ipykernel)",
   "language": "python",
   "name": "python3"
  },
  "language_info": {
   "codemirror_mode": {
    "name": "ipython",
    "version": 3
   },
   "file_extension": ".py",
   "mimetype": "text/x-python",
   "name": "python",
   "nbconvert_exporter": "python",
   "pygments_lexer": "ipython3",
   "version": "3.9.7"
  }
 },
 "nbformat": 4,
 "nbformat_minor": 2
}
